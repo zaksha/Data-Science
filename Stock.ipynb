{
 "cells": [
  {
   "cell_type": "code",
   "execution_count": 50,
   "id": "0cca03e6",
   "metadata": {},
   "outputs": [],
   "source": [
    "import numpy as np\n",
    "import pandas as pd\n",
    "from sklearn import preprocessing\n",
    "from sklearn.model_selection import train_test_split\n",
    "from sklearn.linear_model import LinearRegression"
   ]
  },
  {
   "cell_type": "code",
   "execution_count": 51,
   "id": "4a49e1e4",
   "metadata": {},
   "outputs": [],
   "source": [
    "df = pd.read_csv(\"prices.csv\")"
   ]
  },
  {
   "cell_type": "code",
   "execution_count": 75,
   "id": "f1b025f8",
   "metadata": {},
   "outputs": [],
   "source": [
    "def prepare_data(df,forecast_col,forecast_out,test_size):\n",
    "    label = df[forecast_col].shift(-forecast_out) #creating new column called label with the last 5 rows are nan\n",
    "    X = np.array(df[[forecast_col]].dropna()) #creating the feature array\n",
    "    X = preprocessing.scale(X) #processing the feature array\n",
    "    X_lately = X[-forecast_out:] #creating the column i want to use later in the predicting method\n",
    "    X = X[:-forecast_out] # X that will contain the training and testing\n",
    "    label.dropna(inplace=True) #dropping na values\n",
    "    y = np.array(label)  # assigning Y\n",
    "    X_train, X_test, Y_train, Y_test = train_test_split(X, y, test_size=test_size, random_state=0) #cross validation\n",
    "\n",
    "    response = [X_train,X_test , Y_train, Y_test , X_lately]\n",
    "    return response"
   ]
  },
  {
   "cell_type": "code",
   "execution_count": 53,
   "id": "acea800b",
   "metadata": {},
   "outputs": [],
   "source": [
    "forecast_col =\"Close\"\n",
    "forecast_out = 5\n",
    "test_size = 0.2"
   ]
  },
  {
   "cell_type": "code",
   "execution_count": 76,
   "id": "fa02df5d",
   "metadata": {},
   "outputs": [
    {
     "data": {
      "text/plain": [
       "LinearRegression()"
      ]
     },
     "execution_count": 76,
     "metadata": {},
     "output_type": "execute_result"
    }
   ],
   "source": [
    "X_train, X_test, Y_train, Y_test , X_lately = prepare_data(df,forecast_col,forecast_out,test_size);\n",
    "\n",
    "learner = LinearRegression()\n",
    "learner.fit(X_train,Y_train)"
   ]
  },
  {
   "cell_type": "code",
   "execution_count": 89,
   "id": "342c139d",
   "metadata": {},
   "outputs": [],
   "source": [
    "score = learner.score(X_test,Y_test)"
   ]
  },
  {
   "cell_type": "code",
   "execution_count": 91,
   "id": "f7afaa50",
   "metadata": {},
   "outputs": [],
   "source": [
    "forecast = learner.predict(X_lately)"
   ]
  },
  {
   "cell_type": "code",
   "execution_count": 92,
   "id": "c0305213",
   "metadata": {},
   "outputs": [
    {
     "data": {
      "text/plain": [
       "array([2314.58199532, 2379.35794519, 2508.86034241, 2525.69099326,\n",
       "       2503.21663434])"
      ]
     },
     "execution_count": 92,
     "metadata": {},
     "output_type": "execute_result"
    }
   ],
   "source": [
    "forecast"
   ]
  },
  {
   "cell_type": "code",
   "execution_count": 94,
   "id": "31f16cd9",
   "metadata": {},
   "outputs": [
    {
     "name": "stdout",
     "output_type": "stream",
     "text": [
      "{'test_score': 0.97642741209327, 'forecast_set': array([2314.58199532, 2379.35794519, 2508.86034241, 2525.69099326,\n",
      "       2503.21663434])}\n"
     ]
    }
   ],
   "source": [
    "response = {}\n",
    "response['test_score'] = score\n",
    "response['forecast_set'] = forecast\n",
    "print (response)"
   ]
  },
  {
   "cell_type": "code",
   "execution_count": null,
   "id": "e56b410a",
   "metadata": {},
   "outputs": [],
   "source": []
  },
  {
   "cell_type": "code",
   "execution_count": null,
   "id": "31d6f124",
   "metadata": {},
   "outputs": [],
   "source": []
  }
 ],
 "metadata": {
  "kernelspec": {
   "display_name": "Python 3",
   "language": "python",
   "name": "python3"
  },
  "language_info": {
   "codemirror_mode": {
    "name": "ipython",
    "version": 3
   },
   "file_extension": ".py",
   "mimetype": "text/x-python",
   "name": "python",
   "nbconvert_exporter": "python",
   "pygments_lexer": "ipython3",
   "version": "3.8.5"
  }
 },
 "nbformat": 4,
 "nbformat_minor": 5
}
